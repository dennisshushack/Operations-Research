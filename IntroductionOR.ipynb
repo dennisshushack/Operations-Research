{
 "cells": [
  {
   "cell_type": "markdown",
   "metadata": {},
   "source": [
    "# Operations Research "
   ]
  },
  {
   "cell_type": "markdown",
   "metadata": {},
   "source": [
    "## Normal LP Poblems"
   ]
  },
  {
   "cell_type": "markdown",
   "metadata": {},
   "source": [
    "This file helps with calculating the primal and dual problem of a simple LP. Remember the ***ABC***\n",
    "of optimization:\n",
    "* **A**: Adjust $\\rightarrow$ Decision variables\n",
    "* **B**: Best $\\rightarrow$ Objective function (minimize or maximize)\n",
    "* **C** Constraints $\\rightarrow$ subject to constraints \n",
    "---\n",
    "**What does an LP in standard form look like?**\n",
    "> **Note** Every linear program can be written in the standard form $$\\begin{array}{c}\n",
    "\\max _{x} c^{\\top} x \\\\\n",
    "\\text { s.t. } A x \\leq b \\\\\n",
    "x \\geq 0\n",
    "\\end{array}$$\n",
    "\n",
    "This again can be rewritten in the following ways:\n",
    "- $\\min _{x} c^{\\top} x \\Leftrightarrow-\\max _{x}-c^{\\top} x$\n",
    "- $a^{\\top} x \\geq b \\Leftrightarrow-a^{\\top} x \\leq-b$\n",
    "- $a^{\\top} x=b \\Leftrightarrow a^{\\top} x \\leq b, a^{\\top} x \\geq b \\Leftrightarrow a^{\\top} x \\leq b,-a^{\\top} x \\leq-b$\n",
    "- no nonnegativity constraints for $x \\Leftrightarrow x=\\bar{x}-\\overline{\\bar{x}}, \\bar{x} \\geq 0, \\overline{\\bar{x}} \\geq 0$ \n",
    "---\n",
    "**Solutions to Linear Programs**\n",
    "There different types of solutions an LP can have:\n",
    "1. Any specification of values for the decision variables $(x_1,x_2,...,x_n)$ is called a solution, regardless if it is desireable or not"
   ]
  },
  {
   "cell_type": "markdown",
   "metadata": {},
   "source": []
  },
  {
   "cell_type": "code",
   "execution_count": null,
   "metadata": {},
   "outputs": [],
   "source": []
  }
 ],
 "metadata": {
  "kernelspec": {
   "display_name": "Python 3 (ipykernel)",
   "language": "python",
   "name": "python3"
  },
  "language_info": {
   "codemirror_mode": {
    "name": "ipython",
    "version": 3
   },
   "file_extension": ".py",
   "mimetype": "text/x-python",
   "name": "python",
   "nbconvert_exporter": "python",
   "pygments_lexer": "ipython3",
   "version": "3.9.7"
  }
 },
 "nbformat": 4,
 "nbformat_minor": 1
}
